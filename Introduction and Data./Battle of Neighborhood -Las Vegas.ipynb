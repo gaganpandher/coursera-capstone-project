{
    "cells": [
        {
            "cell_type": "markdown",
            "metadata": {
                "collapsed": true
            },
            "source": "# Exploring Las Vegas"
        },
        {
            "cell_type": "markdown",
            "metadata": {},
            "source": "## Introduction/ Business Problem"
        },
        {
            "cell_type": "markdown",
            "metadata": {},
            "source": "Whenever a person wants to visit any city or place that is new to them they eventually look for the places to eat in addition to the hangout places. For finding hangout places there are various other options. Finding better restaurants and caf\u00e9 is problem when there are many options and the city is very dense. Thus to find any eating place we check their ratings and reviews which are give us pretty much fair opinion about the restaurant. Now how about we getting an idea about the price range? This is what we are going to explore and analyze here. Also, we will also be combining the information about the location of the venues in the city .\n\nLas Vegas is  is the 28th most populated city in the united states and the most populated city in the state of Naveda. Las vegas is internationally renowned major resort city, known primarily for shopping, fine dine, entertainment and nightlife. Las vegas also serves as the leading financial, commercial and culture center for Naveda. This project explores various venues in Vegas and attributes the data based on user ratings and price range or average price.\n\nTo explore the information stated we have made use of two location API that is Foursquare API and the Zomato API. Using Foursquare API we were able to set the boundaries ( using radius parameter) and Using Zomato API we were able to fetch the information about various venues like name, address, rating, price range and category. Using the data from the foursquare and Zomato API maps have also been plotted using Folium to make more clear visualization.\n"
        },
        {
            "cell_type": "markdown",
            "metadata": {},
            "source": "## Data"
        },
        {
            "cell_type": "markdown",
            "metadata": {},
            "source": "I have used two API for fetching the data.First one is Foursquare from where I retrieved the following information-\n1. Name: Name of the Venue\n2. Category : Type of the venue(eg. cafe, restaurant etc.)\n3. Latitude : Latitude Value of the venue\n4. Longitude : The longitude value of the venue\n\nSecond one I have used Zomato API,from where I fetched the following information: \n1. Name : The name of the venue\n2. Address: The complete address of the venue.\n3. Price Range : The price range of the venue as defined be the Zomato.\n4. Rating : The ratings as provided by many Users.\n5. Latitude : The Latitude value of the venue.\n6. Longitude : Longitude value of the venue."
        },
        {
            "cell_type": "code",
            "execution_count": null,
            "metadata": {},
            "outputs": [],
            "source": ""
        }
    ],
    "metadata": {
        "kernelspec": {
            "display_name": "Python 3.6",
            "language": "python",
            "name": "python3"
        },
        "language_info": {
            "codemirror_mode": {
                "name": "ipython",
                "version": 3
            },
            "file_extension": ".py",
            "mimetype": "text/x-python",
            "name": "python",
            "nbconvert_exporter": "python",
            "pygments_lexer": "ipython3",
            "version": "3.6.9"
        }
    },
    "nbformat": 4,
    "nbformat_minor": 1
}